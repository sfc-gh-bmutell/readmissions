{
 "cells": [
  {
   "cell_type": "markdown",
   "metadata": {},
   "source": [
    "### Import packages and modules\n",
    "\n"
   ]
  },
  {
   "cell_type": "code",
   "execution_count": 2,
   "metadata": {},
   "outputs": [],
   "source": [
    "# Import Python packages\n",
    "import pandas as pd\n",
    "import numpy as np\n",
    "from itertools import combinations\n",
    "import seaborn as sns\n",
    "import os\n",
    "import plotly.express as px\n",
    "from getpass import getpass\n",
    "\n",
    "# Import Snowflake modules\n",
    "from snowflake.snowpark import Session \n",
    "import snowflake.snowpark.functions as F \n",
    "import snowflake.snowpark.types as T\n",
    "from snowflake.snowpark import Window\n",
    "from snowflake.snowpark.functions import col"
   ]
  },
  {
   "cell_type": "markdown",
   "metadata": {},
   "source": [
    "### Connect to Snowflake and set the context for the notebook \n",
    "\n"
   ]
  },
  {
   "cell_type": "code",
   "execution_count": 3,
   "metadata": {},
   "outputs": [
    {
     "name": "stdout",
     "output_type": "stream",
     "text": [
      "········\n",
      "········\n",
      "········\n",
      "[Row(CURRENT_ROLE()='DATASCI', CURRENT_WAREHOUSE()='DATASCI_WH', CURRENT_DATABASE()='ANALYTICS', CURRENT_SCHEMA()='READMIT', CURRENT_REGION()='PUBLIC.AWS_US_WEST_2', CURRENT_CLIENT()='PythonSnowpark 1.3.0')]\n"
     ]
    }
   ],
   "source": [
    "snow_acct=getpass()\n",
    "userID=getpass()\n",
    "pw=getpass()\n",
    "\n",
    "connection_parameters = {\n",
    "    \"account\":snow_acct,\n",
    "    \"user\":userID,\n",
    "    \"password\":pw,\n",
    "    \"role\":\"datasci\",\n",
    "    \"warehouse\":\"datasci_wh\",\n",
    "    \"database\":\"analytics\",\n",
    "    \"schema\":\"readmit\"\n",
    "}\n",
    "\n",
    "session = Session.builder.configs(connection_parameters).create()\n",
    "print(session.sql(\"select current_role(), current_warehouse(), current_database(), current_schema(), current_region(), current_client()\").collect())"
   ]
  },
  {
   "cell_type": "markdown",
   "metadata": {},
   "source": [
    "### Create a Snowpark dataframe, which references a table in Snowflake, to start manipulating our data\n",
    "### Explore 10 rows of data\n",
    "\n"
   ]
  },
  {
   "cell_type": "code",
   "execution_count": 9,
   "metadata": {},
   "outputs": [
    {
     "name": "stdout",
     "output_type": "stream",
     "text": [
      "--------------------------------------------------------------------------------------------------------------------------------------------------------------------------------------------------------------------------------------------------------------------------------------------------------------------------------------------------------------------------------------------------------------------------------------------------------------------------------------------------------------------------------------------------------------------------------------------------------------------------------------------------------------------------------------------------------------------------------------------------------------------------------------------------------------------------------------------\n",
      "|\"CITY_LAT\"  |\"CITY_LONG\"  |\"HOSPITAL_LAT\"  |\"HOSPITAL_LONG\"  |\"HOSPITAL_NAME\"                                   |\"HOSPITAL_STATE\"  |\"DIAGNOSIS\"  |\"PATIENT_NUMBER\"  |\"DV_READMIT_FLAG\"  |\"ADMIT_DATE\"  |\"LENGTH_OF_STAY\"  |\"PRIOR_IP_ADMITS\"  |\"CHRONIC_CONDITIONS_NUMBER\"  |\"PATIENT_AGE\"  |\"ORDER_SET_USED\"  |\"HOSPITAL_ID\"  |\"HOSPITAL_ADDRESS\"        |\"HOSPITAL_CITY\"  |\"HOSPITAL_ZIP_CODE\"  |\"HOSPITAL_COUNTY_NAME\"  |\"HOSPITAL_REGION\"  |\"NPI\"       |\"TOTAL_CHARGES\"  |\"DISCHARGE_NOTES\"     |\"PATIENT_GENDER\"  |\"URBAN_CLASS\"  |\"MARITAL_STATUS\"  |\"SDOH_FLAG\"  |\"HIGH_NA_AT_DISCHARGE\"  |\"BMI\"  |\"CITY\"        |\"STATE\"  |\"POSTCODE\"  |\"ADDRESS\"                      |\"PATIENT_ID\"  |\"PATIENT_LON\"  |\"PATIENT_LAT\"  |\"CONTACT_PREFERENCE\"  |\"EMAIL\"                                             |\"PHONE\"        |\"SBUX_COUNT\"  |\n",
      "--------------------------------------------------------------------------------------------------------------------------------------------------------------------------------------------------------------------------------------------------------------------------------------------------------------------------------------------------------------------------------------------------------------------------------------------------------------------------------------------------------------------------------------------------------------------------------------------------------------------------------------------------------------------------------------------------------------------------------------------------------------------------------------------------------------------------------------------\n",
      "|41.13056    |-85.12889    |41.13056        |-85.12889        |ORTHOPAEDIC HOSPITAL AT PARKVIEW NORTH LLC        |IN                |PN           |4796608009        |0                  |2014-02-03    |5                 |4                  |1                            |47             |0                 |9503           |11130 PARKVIEW CIRCLE DR  |FORT WAYNE       |46845                |ALLEN                   |CE                 |1245789668  |4400.0           |ROUTINE DSCHG, HOME   |M                 |U              |Y                 |N            |N                       |24.1   |FORT WAYNE    |IN       |46845       |5949      S LEGACY  COURT      |4796608009    |-85.3493375    |41.0791976     |phone                 |4796608009@ORTHOPAEDIC HOSPITAL AT PARKVIEW NOR...  |(749)919-7728  |NULL          |\n",
      "|40.57417    |-74.61028    |40.57417        |-74.61028        |ROBERT WOOD JOHNSON UNIVERSITY HOSPITAL SOMERSET  |NJ                |CABG         |2465877329        |0                  |2015-03-22    |8                 |4                  |2                            |57             |0                 |2818           |110 REHILL AVE            |SOMERVILLE       |8876                 |SOMERSET                |NE                 |1457439754  |37427.5          |ROUTINE DSCHG, HOME   |M                 |U              |Y                 |N            |N                       |25.0   |SOMERVILLE    |NJ       |8876        |1005      State Highway  28    |2465877329    |-74.6749815    |40.601002      |email                 |2465877329@ROBERT WOOD JOHNSON UNIVERSITY HOSPI...  |(929)442-0611  |NULL          |\n",
      "|42.35833    |-71.06028    |42.35833        |-71.06028        |MASSACHUSETTS EYE AND EAR INFIRMARY -             |MA                |HIP/KNEE     |7597273070        |1                  |2015-07-05    |8                 |4                  |1                            |60             |0                 |4596           |243 CHARLES STREET        |BOSTON           |2114                 |SUFFOLK                 |NE                 |1992763387  |70076.5625       |ROUTINE DSCHG, HOME   |F                 |U              |N                 |N            |N                       |29.9   |BOSTON        |MA       |2108        |20        MOUNT VERNON STREET  |7597273070    |-71.0652412    |42.3582073     |email                 |7597273070@MASSACHUSETTS EYE AND EAR INFIRMARY ...  |(994)077-3451  |NULL          |\n",
      "|46.59278    |-112.03528   |46.59278        |-112.03528       |ST PETER'S HOSPITAL                               |MT                |HIP/KNEE     |1735146824        |0                  |2016-01-01    |5                 |5                  |1                            |46             |0                 |1110           |2475 BROADWAY             |HELENA           |59601                |LEWIS AND CLARK         |NW                 |1902960578  |17241.96         |ROUTINE DSCHG, HOME   |M                 |U              |Y                 |N            |N                       |27.0   |HELENA        |MT       |59601       |11        BUMBLE BEE CT        |1735146824    |-111.9624125   |46.5887348     |text                  |1735146824@ST PETER'S HOSPITAL.com                  |(167)391-9063  |4             |\n",
      "|26.64028    |-81.8725     |26.64028        |-81.8725         |GULF COAST MEDICAL CENTER LEE MEM HEALTH SYSTEM   |FL                |COPD         |318846456         |0                  |2015-02-01    |4                 |5                  |2                            |57             |0                 |4002           |13681 DOCTORS WAY         |FORT MYERS       |33912                |LEE                     |SE                 |1386606366  |9716.49          |ROUTINE DSCHG, HOME   |M                 |U              |Y                 |N            |N                       |20.6   |FORT MYERS    |FL       |33901       |1835      ROYAL PALM AVE       |318846456     |-81.8640522    |26.6424503     |text                  |318846456@GULF COAST MEDICAL CENTER LEE MEM HEA...  |(460)025-6388  |2             |\n",
      "|45.78333    |-108.5       |45.78333        |-108.5           |ST VINCENT HEALTHCARE                             |MT                |HF           |3349776880        |0                  |2015-08-25    |3                 |5                  |2                            |41             |0                 |8102           |1233 N 30TH ST            |BILLINGS         |59101                |YELLOWSTONE             |NW                 |1366496309  |7158.18          |DSCHG TO HOME HEALTH  |F                 |R              |N                 |N            |Y                       |20.2   |BILLINGS      |MT       |59101       |907       COPPER VALLEY CIR    |3349776880    |-108.4072516   |45.8138952     |text                  |3349776880@ST VINCENT HEALTHCARE.com                |(123)514-3495  |1             |\n",
      "|37.27056    |-76.70778    |37.27056        |-76.70778        |RIVERSIDE DOCTORS' HOSPITAL OF WILLIAMSBURG       |VA                |AMI          |8410374992        |0                  |2015-10-28    |5                 |4                  |2                            |54             |0                 |6623           |1500 COMMONWEALTH AVENUE  |WILLIAMSBURG     |23185                |JAMES CITY              |NE                 |1336198423  |2188.75          |DSCHG SNF             |F                 |R              |N                 |Y            |Y                       |27.0   |WILLIAMSBURG  |VA       |23185       |1517      CREEK CT             |8410374992    |-76.6062764    |37.2076393     |text                  |8410374992@RIVERSIDE DOCTORS' HOSPITAL OF WILLI...  |(465)534-3000  |4             |\n",
      "|30.33194    |-81.65583    |30.33194        |-81.65583        |MEMORIAL HOSPITAL JACKSONVILLE                    |FL                |AMI          |686921650         |0                  |2014-12-25    |4                 |4                  |2                            |70             |0                 |9904           |3625 UNIVERSITY BLVD S    |JACKSONVILLE     |32216                |DUVAL                   |SE                 |1710977517  |20659.59         |ROUTINE DSCHG, HOME   |F                 |U              |N                 |N            |Y                       |24.8   |JACKSONVILLE  |FL       |32202       |11        E FORSYTH ST         |686921650     |-81.6573572    |30.3274055     |text                  |686921650@MEMORIAL HOSPITAL JACKSONVILLE.com        |(128)086-5503  |NULL          |\n",
      "|41.82389    |-71.41333    |41.82389        |-71.41333        |WOMEN & INFANTS HOSPITAL OF RHODE ISLAND          |RI                |HIP/KNEE     |1613470           |1                  |2015-07-16    |14                |4                  |1                            |86             |0                 |1398           |101 DUDLEY STREET         |PROVIDENCE       |2905                 |PROVIDENCE              |NE                 |1306128251  |27015.0          |ROUTINE DSCHG, HOME   |F                 |U              |N                 |N            |Y                       |23.8   |PROVIDENCE    |RI       |2860        |49        HILLSIDE AVE         |1613470       |-71.3971176    |41.8564801     |phone                 |1613470@WOMEN & INFANTS HOSPITAL OF RHODE ISLAN...  |(432)902-8802  |NULL          |\n",
      "|35.26194    |-81.1875     |35.26194        |-81.1875         |CAROMONT REGIONAL MEDICAL CENTER                  |NC                |COPD         |1193906633        |0                  |2015-03-21    |3                 |5                  |2                            |64             |0                 |9              |2525 COURT DR             |GASTONIA         |28052                |GASTON                  |SE                 |1467595496  |9909.0           |ROUTINE DSCHG, HOME   |M                 |U              |Y                 |N            |N                       |25.6   |GASTONIA      |NC       |28016       |131       BRIGHT AVE           |1193906633    |-81.2583494    |35.2598564     |text                  |1193906633@CAROMONT REGIONAL MEDICAL CENTER.com     |(586)007-3150  |NULL          |\n",
      "--------------------------------------------------------------------------------------------------------------------------------------------------------------------------------------------------------------------------------------------------------------------------------------------------------------------------------------------------------------------------------------------------------------------------------------------------------------------------------------------------------------------------------------------------------------------------------------------------------------------------------------------------------------------------------------------------------------------------------------------------------------------------------------------------------------------------------------------\n",
      "\n"
     ]
    }
   ],
   "source": [
    "readmissions_df=session.table('readmissions_enriched')\n",
    "readmissions_df.sample(n=10).show()"
   ]
  },
  {
   "cell_type": "markdown",
   "metadata": {},
   "source": [
    "### How large is this Snowpark dataframe? \n",
    "\n"
   ]
  },
  {
   "cell_type": "code",
   "execution_count": 10,
   "metadata": {},
   "outputs": [
    {
     "name": "stdout",
     "output_type": "stream",
     "text": [
      "Snowpark DataFrame Size (snowpark_df): 0.00 MB\n"
     ]
    }
   ],
   "source": [
    "import sys\n",
    "snowpark_size = sys.getsizeof(readmissions_df) / (1024*1024)\n",
    "print(f\"Snowpark DataFrame Size (snowpark_df): {snowpark_size:.2f} MB\")"
   ]
  },
  {
   "cell_type": "markdown",
   "metadata": {},
   "source": [
    "####  The Snowpark dataframe has zero size in the Python client here since the data is still in Snowflake\n",
    "\n"
   ]
  },
  {
   "cell_type": "markdown",
   "metadata": {},
   "source": [
    "### Filter the data for just New Jersey and sort by readmission and diagnosis. What does the underlying SQL execution plan look like? \n",
    "\n"
   ]
  },
  {
   "cell_type": "code",
   "execution_count": 11,
   "metadata": {},
   "outputs": [
    {
     "name": "stdout",
     "output_type": "stream",
     "text": [
      "---------DATAFRAME EXECUTION PLAN----------\n",
      "Query List:\n",
      "1.\n",
      "SELECT  *  FROM readmissions_enriched WHERE (\"HOSPITAL_STATE\" = 'NJ') ORDER BY \"DV_READMIT_FLAG\" DESC NULLS LAST, \"DIAGNOSIS\" DESC NULLS LAST\n",
      "Logical Execution Plan:\n",
      "GlobalStats:\n",
      "    partitionsTotal=1\n",
      "    partitionsAssigned=1\n",
      "    bytesAssigned=5365760\n",
      "Operations:\n",
      "1:0     ->Result  READMISSIONS_ENRICHED.CITY_LAT, READMISSIONS_ENRICHED.CITY_LONG, READMISSIONS_ENRICHED.HOSPITAL_LAT, READMISSIONS_ENRICHED.HOSPITAL_LONG, READMISSIONS_ENRICHED.HOSPITAL_NAME, READMISSIONS_ENRICHED.HOSPITAL_STATE, READMISSIONS_ENRICHED.DIAGNOSIS, READMISSIONS_ENRICHED.PATIENT_NUMBER, READMISSIONS_ENRICHED.DV_READMIT_FLAG, READMISSIONS_ENRICHED.ADMIT_DATE, READMISSIONS_ENRICHED.LENGTH_OF_STAY, READMISSIONS_ENRICHED.PRIOR_IP_ADMITS, READMISSIONS_ENRICHED.CHRONIC_CONDITIONS_NUMBER, READMISSIONS_ENRICHED.PATIENT_AGE, READMISSIONS_ENRICHED.ORDER_SET_USED, READMISSIONS_ENRICHED.HOSPITAL_ID, READMISSIONS_ENRICHED.HOSPITAL_ADDRESS, READMISSIONS_ENRICHED.HOSPITAL_CITY, READMISSIONS_ENRICHED.HOSPITAL_ZIP_CODE, READMISSIONS_ENRICHED.HOSPITAL_COUNTY_NAME, READMISSIONS_ENRICHED.HOSPITAL_REGION, READMISSIONS_ENRICHED.NPI, READMISSIONS_ENRICHED.TOTAL_CHARGES, READMISSIONS_ENRICHED.DISCHARGE_NOTES, READMISSIONS_ENRICHED.PATIENT_GENDER, READMISSIONS_ENRICHED.URBAN_CLASS, READMISSIONS_ENRICHED.MARITAL_STATUS, READMISSIONS_ENRICHED.SDOH_FLAG, READMISSIONS_ENRICHED.HIGH_NA_AT_DISCHARGE, READMISSIONS_ENRICHED.BMI, READMISSIONS_ENRICHED.CITY, READMISSIONS_ENRICHED.STATE, READMISSIONS_ENRICHED.POSTCODE, READMISSIONS_ENRICHED.ADDRESS, READMISSIONS_ENRICHED.PATIENT_ID, READMISSIONS_ENRICHED.PATIENT_LON, READMISSIONS_ENRICHED.PATIENT_LAT, READMISSIONS_ENRICHED.CONTACT_PREFERENCE, READMISSIONS_ENRICHED.EMAIL, READMISSIONS_ENRICHED.PHONE, READMISSIONS_ENRICHED.SBUX_COUNT  \n",
      "1:1          ->Sort  READMISSIONS_ENRICHED.DV_READMIT_FLAG DESC NULLS LAST, READMISSIONS_ENRICHED.DIAGNOSIS DESC NULLS LAST  \n",
      "1:2               ->Filter  READMISSIONS_ENRICHED.HOSPITAL_STATE = 'NJ'  \n",
      "1:3                    ->TableScan  ANALYTICS.READMIT.READMISSIONS_ENRICHED  CITY_LAT, CITY_LONG, HOSPITAL_LAT, HOSPITAL_LONG, HOSPITAL_NAME, HOSPITAL_STATE, DIAGNOSIS, PATIENT_NUMBER, DV_READMIT_FLAG, ADMIT_DATE, LENGTH_OF_STAY, PRIOR_IP_ADMITS, CHRONIC_CONDITIONS_NUMBER, PATIENT_AGE, ORDER_SET_USED, HOSPITAL_ID, HOSPITAL_ADDRESS, HOSPITAL_CITY, HOSPITAL_ZIP_CODE, HOSPITAL_COUNTY_NAME, HOSPITAL_REGION, NPI, TOTAL_CHARGES, DISCHARGE_NOTES, PATIENT_GENDER, URBAN_CLASS, MARITAL_STATUS, SDOH_FLAG, HIGH_NA_AT_DISCHARGE, BMI, CITY, STATE, POSTCODE, ADDRESS, PATIENT_ID, PATIENT_LON, PATIENT_LAT, CONTACT_PREFERENCE, EMAIL, PHONE, SBUX_COUNT  {partitionsTotal=1, partitionsAssigned=1, bytesAssigned=5365760}\n",
      "\n",
      "--------------------------------------------\n"
     ]
    }
   ],
   "source": [
    "nj_df = readmissions_df.filter(F.col(\"HOSPITAL_STATE\") == 'NJ').order_by([\"DV_READMIT_FLAG\", \"DIAGNOSIS\"], ascending=[0, 0])\n",
    "nj_df.explain()"
   ]
  },
  {
   "cell_type": "markdown",
   "metadata": {},
   "source": [
    "### How many patients and readmissions are there? \n",
    "\n"
   ]
  },
  {
   "cell_type": "code",
   "execution_count": 12,
   "metadata": {},
   "outputs": [
    {
     "name": "stdout",
     "output_type": "stream",
     "text": [
      "The total number of patients in the dataset is 75675\n",
      "The number of patients with a readmission is 17007\n",
      "The number of patients without a readmission is 58668\n"
     ]
    }
   ],
   "source": [
    "print('The total number of patients in the dataset is',readmissions_df.count())\n",
    "print('The number of patients with a readmission is',readmissions_df.filter(col('\"DV_READMIT_FLAG\"')==1).count())\n",
    "print('The number of patients without a readmission is',readmissions_df.filter(col('\"DV_READMIT_FLAG\"')==0).count())"
   ]
  },
  {
   "cell_type": "markdown",
   "metadata": {},
   "source": [
    "### Select features likely to be predictive of readmission and generate summary stats\n",
    "\n"
   ]
  },
  {
   "cell_type": "code",
   "execution_count": 13,
   "metadata": {},
   "outputs": [
    {
     "name": "stdout",
     "output_type": "stream",
     "text": [
      "-------------------------------------------------------------------------------------------------------------------------------------------------------------------------\n",
      "|\"SUMMARY\"  |\"PATIENT_AGE\"       |\"BMI\"               |\"LENGTH_OF_STAY\"   |\"ORDER_SET_USED\"     |\"CHRONIC_CONDITIONS_NUMBER\"  |\"SBUX_COUNT\"        |\"DV_READMIT_FLAG\"   |\n",
      "-------------------------------------------------------------------------------------------------------------------------------------------------------------------------\n",
      "|count      |75675.0             |75675.0             |75675.0            |75675.0              |75675.0                      |35931.0             |75675.0             |\n",
      "|mean       |58.088008           |24.50865147010241   |4.816597           |0.399498             |2.015738                     |2.530016            |0.224737            |\n",
      "|stddev     |13.011103565801019  |3.5000372760173843  |2.779307287796727  |0.48979791751292695  |0.4733318075092778           |1.4613719581270197  |0.4174122662308811  |\n",
      "|min        |13.0                |7.3                 |0.0                |0.0                  |0.0                          |1.0                 |0.0                 |\n",
      "|max        |120.0               |40.7                |27.0               |1.0                  |6.0                          |13.0                |1.0                 |\n",
      "-------------------------------------------------------------------------------------------------------------------------------------------------------------------------\n",
      "\n"
     ]
    }
   ],
   "source": [
    "readmissions_df_features = readmissions_df.select(\"PATIENT_AGE\", \"BMI\", \"LENGTH_OF_STAY\", \"ORDER_SET_USED\", \"CHRONIC_CONDITIONS_NUMBER\",  \"SBUX_COUNT\", \"DV_READMIT_FLAG\" )\n",
    "readmissions_df_features.describe().show()"
   ]
  },
  {
   "cell_type": "markdown",
   "metadata": {},
   "source": [
    "### Count the number of null/missing values for each input value. Perhaps we may need to do some imputation.\n",
    "\n"
   ]
  },
  {
   "cell_type": "code",
   "execution_count": 14,
   "metadata": {},
   "outputs": [
    {
     "name": "stdout",
     "output_type": "stream",
     "text": [
      "Column PATIENT_AGE has 0 missing values\n",
      "Column BMI has 0 missing values\n",
      "Column LENGTH_OF_STAY has 0 missing values\n",
      "Column ORDER_SET_USED has 0 missing values\n",
      "Column CHRONIC_CONDITIONS_NUMBER has 0 missing values\n",
      "Column SBUX_COUNT has 39744 missing values\n",
      "Column DV_READMIT_FLAG has 0 missing values\n"
     ]
    }
   ],
   "source": [
    "column_names=readmissions_df_features.columns\n",
    "for i in column_names:\n",
    "    print('Column',i,'has',readmissions_df_features.filter(col(i).isNull()).count(),'missing values')"
   ]
  },
  {
   "cell_type": "markdown",
   "metadata": {},
   "source": [
    "### Since our zip codes without any Starbucks locations show up as `null`, let's replace those missing values with `0` for our model\n",
    "\n"
   ]
  },
  {
   "cell_type": "code",
   "execution_count": 15,
   "metadata": {},
   "outputs": [
    {
     "name": "stdout",
     "output_type": "stream",
     "text": [
      "Column PATIENT_AGE has 0 missing values!\n",
      "Column BMI has 0 missing values!\n",
      "Column LENGTH_OF_STAY has 0 missing values!\n",
      "Column ORDER_SET_USED has 0 missing values!\n",
      "Column CHRONIC_CONDITIONS_NUMBER has 0 missing values!\n",
      "Column SBUX_COUNT has 0 missing values!\n",
      "Column DV_READMIT_FLAG has 0 missing values!\n"
     ]
    }
   ],
   "source": [
    "readmissions_df_features = readmissions_df_features.fillna(0, subset=\"SBUX_COUNT\")\n",
    "for i in column_names:\n",
    "    print('Column',i,'has',readmissions_df_features.filter(col(i).isNull()).count(),'missing values!')"
   ]
  },
  {
   "cell_type": "markdown",
   "metadata": {},
   "source": [
    "### Visually examine the distribution of patient age to see if any transformations should be applied\n",
    "\n"
   ]
  },
  {
   "cell_type": "code",
   "execution_count": 16,
   "metadata": {},
   "outputs": [
    {
     "data": {
      "image/png": "[encoded data removed]",
      "text/plain": [
       "<Figure size 432x288 with 1 Axes>"
      ]
     },
     "metadata": {
      "needs_background": "light"
     },
     "output_type": "display_data"
    }
   ],
   "source": [
    "ax = readmissions_df_features.to_pandas().hist(column=\"PATIENT_AGE\", bins=20)"
   ]
  },
  {
   "cell_type": "markdown",
   "metadata": {},
   "source": [
    "### Explore correlations between our outcome and predictors to see if there is any predictive power or multicollinearlity.\n",
    "\n"
   ]
  },
  {
   "cell_type": "code",
   "execution_count": 17,
   "metadata": {},
   "outputs": [
    {
     "data": {
      "image/png": "[encoded data removed]",
      "text/plain": [
       "<Figure size 432x288 with 2 Axes>"
      ]
     },
     "metadata": {
      "needs_background": "light"
     },
     "output_type": "display_data"
    }
   ],
   "source": [
    "#Create a pandas dataframe to put the correlations into.\n",
    "corr_df=pd.DataFrame(columns=column_names,index=column_names,dtype=float)\n",
    "\n",
    "\n",
    "#Calculate the correlations\n",
    "for i,j in combinations(column_names,2):\n",
    "    corr_df.at[i,j]=round(readmissions_df_features.corr(col(i),col(j)),2)\n",
    "    corr_df.at[j,i]=corr_df.at[i,j] \n",
    "\n",
    "#The diagonal will always be set to 1 since it is matching variables\n",
    "np.fill_diagonal(corr_df.values, 1.0)\n",
    "\n",
    "sns.heatmap(corr_df, cmap=sns.diverging_palette(230, 20, as_cmap=True), annot=True);"
   ]
  },
  {
   "cell_type": "markdown",
   "metadata": {},
   "source": [
    "### Save our model-ready table with imputed values as a Snowflake table\n",
    "\n"
   ]
  },
  {
   "cell_type": "code",
   "execution_count": 18,
   "metadata": {},
   "outputs": [],
   "source": [
    "readmissions_df_features.write.mode(\"overwrite\").save_as_table(\"analytics.readmit.readmissions_imp\")"
   ]
  },
  {
   "cell_type": "markdown",
   "metadata": {},
   "source": [
    "### This staging area will surface as place to put python objects for future use (for example model scoring)\n",
    "\n"
   ]
  },
  {
   "cell_type": "code",
   "execution_count": 19,
   "metadata": {},
   "outputs": [
    {
     "data": {
      "text/plain": [
       "[Row(status='Stage area READMISSIONS_MODEL_STAGE successfully created.')]"
      ]
     },
     "execution_count": 19,
     "metadata": {},
     "output_type": "execute_result"
    }
   ],
   "source": [
    "session.sql(\"CREATE OR REPLACE STAGE readmissions_model_stage\").collect()"
   ]
  },
  {
   "cell_type": "markdown",
   "metadata": {},
   "source": [
    "### Define a function for building a logistic regression model\n",
    "\n"
   ]
  },
  {
   "cell_type": "code",
   "execution_count": 20,
   "metadata": {},
   "outputs": [],
   "source": [
    "def train_model(session: Session, \n",
    "    training_table: str, \n",
    "    feature_columns: list, \n",
    "    target_variable: str,\n",
    "    model_name: str,\n",
    ") -> T.Variant:\n",
    "    \n",
    "    #Import packages for modeling\n",
    "    from sklearn.linear_model import LogisticRegression\n",
    "    from sklearn.model_selection import train_test_split\n",
    "    from joblib import dump\n",
    "\n",
    "    #Specify the table for training the model. The pandas dataframe will live on the Snowflake compute.\n",
    "    readmissions_py_df=session.table(training_table).to_pandas()\n",
    "    \n",
    "    #Create our input and output features\n",
    "    X=readmissions_py_df[feature_columns]\n",
    "    y=readmissions_py_df[target_variable]\n",
    "\n",
    "    #Split the data into a train and test dataset. 75% train / 25% test\n",
    "    X_train, X_test, y_train, y_test = train_test_split(X, y, test_size=0.25, random_state = 99)\n",
    "\n",
    "    #Fit the model\n",
    "    model = LogisticRegression().fit(X_train,y_train)\n",
    "    \n",
    "  # Save model\n",
    "    dump(model, \"/tmp/\" + model_name)\n",
    "    session.file.put(\n",
    "        \"/tmp/\" + model_name,\n",
    "        \"@readmissions_model_stage\",\n",
    "        auto_compress=False,\n",
    "        overwrite=True\n",
    "    )\n",
    "\n",
    "\n",
    "#Check and return model accuracy based on our two data sets\n",
    "    return {\"Misclassification Rate on Train\": round(model.score(X_train, y_train),3), \n",
    "            \"Misclassification Rate on Test\": round(model.score(X_test, y_test),3)}\n",
    "\n"
   ]
  },
  {
   "cell_type": "markdown",
   "metadata": {},
   "source": [
    "### In Snowflake, when running a model function we first need to register it as a stored procedure. We will store the function in the stage created earlier.\n",
    "\n"
   ]
  },
  {
   "cell_type": "code",
   "execution_count": 21,
   "metadata": {},
   "outputs": [
    {
     "name": "stderr",
     "output_type": "stream",
     "text": [
      "The version of package snowflake-snowpark-python in the local environment is 1.3.0, which does not fit the criteria for the requirement snowflake-snowpark-python. Your UDF might not work when the package version is different between the server and your local environment\n"
     ]
    }
   ],
   "source": [
    "train_model_snowflake = session.sproc.register(func=train_model, \n",
    "                                                name=\"sproc_train_model\", \n",
    "                                                is_permanent=True, \n",
    "                                                replace=True, \n",
    "                                                stage_location=\"@readmissions_model_stage\", \n",
    "                                                packages=[\"snowflake-snowpark-python\", \"scikit-learn\", \"joblib\"])"
   ]
  },
  {
   "cell_type": "markdown",
   "metadata": {},
   "source": [
    "### Scale up our data science compute cluster to an XL to speed up model training\n",
    "\n"
   ]
  },
  {
   "cell_type": "code",
   "execution_count": 22,
   "metadata": {},
   "outputs": [
    {
     "data": {
      "text/plain": [
       "[Row(status='Statement executed successfully.')]"
      ]
     },
     "execution_count": 22,
     "metadata": {},
     "output_type": "execute_result"
    }
   ],
   "source": [
    "session.sql(\"alter warehouse datasci_wh set warehouse_size = xlarge\").collect()"
   ]
  },
  {
   "cell_type": "markdown",
   "metadata": {},
   "source": [
    "### Specify our inputs, output, training table, submit those values into our stored procedure, and run the training SPROC"
   ]
  },
  {
   "cell_type": "code",
   "execution_count": 23,
   "metadata": {},
   "outputs": [
    {
     "name": "stdout",
     "output_type": "stream",
     "text": [
      "{\n",
      "  \"Misclassification Rate on Test\": 0.905,\n",
      "  \"Misclassification Rate on Train\": 0.902\n",
      "}\n"
     ]
    }
   ],
   "source": [
    "# Specify input variables, the labeled variable, and the input dataset\n",
    "training_table = \"analytics.readmit.readmissions_imp\" \n",
    "feature_cols = [\"PATIENT_AGE\",'BMI','LENGTH_OF_STAY','ORDER_SET_USED','CHRONIC_CONDITIONS_NUMBER', 'SBUX_COUNT'] \n",
    "target_col = \"DV_READMIT_FLAG\"\n",
    "model_name = \"readmit_logistic.sav\"\n",
    "\n",
    "\n",
    "# Call the training stored procedure and see the misclassification rate outputs\n",
    "feature_contributions = train_model_snowflake(session,\n",
    "    training_table,\n",
    "    feature_cols,\n",
    "    target_col,\n",
    "    model_name)\n",
    "print(feature_contributions)"
   ]
  },
  {
   "cell_type": "markdown",
   "metadata": {},
   "source": [
    "### Now that model training is complete we can scale down our compute cluster\n",
    "\n"
   ]
  },
  {
   "cell_type": "code",
   "execution_count": 24,
   "metadata": {},
   "outputs": [
    {
     "data": {
      "text/plain": [
       "[Row(status='Statement executed successfully.')]"
      ]
     },
     "execution_count": 24,
     "metadata": {},
     "output_type": "execute_result"
    }
   ],
   "source": [
    "session.sql(\"alter warehouse datasci_wh set warehouse_size=small\").collect()"
   ]
  },
  {
   "cell_type": "markdown",
   "metadata": {},
   "source": [
    "### Now that we have our model file we can define a function to predict readmission for new observations\n",
    "\n"
   ]
  },
  {
   "cell_type": "code",
   "execution_count": 25,
   "metadata": {},
   "outputs": [],
   "source": [
    "def logistic_predict(X: pd.DataFrame) -> pd.Series:\n",
    "    \n",
    "    # Import packages\n",
    "    import sys\n",
    "    from joblib import load\n",
    "\n",
    "    # Get the import directory where the model file is stored\n",
    "    import_dir = sys._xoptions[\"snowflake_import_directory\"]\n",
    "\n",
    "    # Load the model\n",
    "    model = load(import_dir + \"readmit_logistic.sav\")\n",
    "\n",
    "    # Get predictions\n",
    "    predictions = model.predict(X)\n",
    "\n",
    "    # Return rounded predictions\n",
    "    return predictions.round(2)"
   ]
  },
  {
   "cell_type": "markdown",
   "metadata": {},
   "source": [
    "### Register our prediction UDF for reuse\n",
    "\n"
   ]
  },
  {
   "cell_type": "code",
   "execution_count": 26,
   "metadata": {},
   "outputs": [],
   "source": [
    "logistic_predict_readmission = session.udf.register(\n",
    "    func=logistic_predict,\n",
    "    name=\"udf_logistic_readmit_predict\",\n",
    "    stage_location=\"@readmissions_model_stage\",\n",
    "    input_types=[T.FloatType()] * len(feature_cols),\n",
    "    return_type=T.FloatType(),\n",
    "    replace=True,\n",
    "    is_permanent=True,\n",
    "    imports=[\"@readmissions_model_stage/readmit_logistic.sav\"],\n",
    "    packages=[\"scikit-learn\", \"joblib\"]\n",
    ")"
   ]
  },
  {
   "cell_type": "markdown",
   "metadata": {},
   "source": [
    "### How does our model fair on our train dataset?\n",
    "\n"
   ]
  },
  {
   "cell_type": "code",
   "execution_count": 27,
   "metadata": {},
   "outputs": [
    {
     "name": "stdout",
     "output_type": "stream",
     "text": [
      "------------------------------------\n",
      "|\"DV_READMIT_FLAG\"  |\"PREDICTION\"  |\n",
      "------------------------------------\n",
      "|0                  |0.0           |\n",
      "|0                  |0.0           |\n",
      "|0                  |0.0           |\n",
      "|0                  |0.0           |\n",
      "|0                  |0.0           |\n",
      "|0                  |0.0           |\n",
      "|1                  |1.0           |\n",
      "|0                  |0.0           |\n",
      "|0                  |0.0           |\n",
      "|0                  |0.0           |\n",
      "------------------------------------\n",
      "\n"
     ]
    }
   ],
   "source": [
    "train_pred = readmissions_df_features.select(\n",
    "    \"DV_READMIT_FLAG\",\n",
    "    logistic_predict_readmission(*feature_cols).alias(\"prediction\")\n",
    ")\n",
    "train_pred.show()"
   ]
  },
  {
   "cell_type": "markdown",
   "metadata": {},
   "source": [
    "### Predict readmissions of our new patients\n",
    "\n"
   ]
  },
  {
   "cell_type": "code",
   "execution_count": 28,
   "metadata": {},
   "outputs": [
    {
     "name": "stdout",
     "output_type": "stream",
     "text": [
      "---------------------------------------------------------------------------------------------------------------------\n",
      "|\"NPI\"       |\"HOSPITAL_LAT\"  |\"HOSPITAL_LONG\"  |\"HOSPITAL_NAME\"       |\"HOSPITAL_STATE\"  |\"PREDICTED_READMISSION\"  |\n",
      "---------------------------------------------------------------------------------------------------------------------\n",
      "|1053675397  |NULL            |NULL             |OCEAN MEDICAL CENTER  |NJ                |0.0                      |\n",
      "|1891067815  |NULL            |NULL             |OCEAN MEDICAL CENTER  |NJ                |0.0                      |\n",
      "|1093063927  |NULL            |NULL             |OCEAN MEDICAL CENTER  |NJ                |0.0                      |\n",
      "|1427401413  |NULL            |NULL             |OCEAN MEDICAL CENTER  |NJ                |0.0                      |\n",
      "|1518982958  |NULL            |NULL             |OCEAN MEDICAL CENTER  |NJ                |0.0                      |\n",
      "|1285071134  |NULL            |NULL             |OCEAN MEDICAL CENTER  |NJ                |0.0                      |\n",
      "|1922146539  |NULL            |NULL             |OCEAN MEDICAL CENTER  |NJ                |0.0                      |\n",
      "|1710997101  |NULL            |NULL             |OCEAN MEDICAL CENTER  |NJ                |0.0                      |\n",
      "|1740695246  |NULL            |NULL             |OCEAN MEDICAL CENTER  |NJ                |0.0                      |\n",
      "|1376598649  |NULL            |NULL             |OCEAN MEDICAL CENTER  |NJ                |0.0                      |\n",
      "---------------------------------------------------------------------------------------------------------------------\n",
      "\n"
     ]
    }
   ],
   "source": [
    "new_patients_df=session.table('new_patients_enriched')\n",
    "new_patients_imp = new_patients_df.fillna(0, subset=\"SBUX_COUNT\")\n",
    "new_patients_imp.write.mode(\"overwrite\").save_as_table(\"analytics.readmit.new_patients_imp\")\n",
    "new_patients_predictions_df = new_patients_imp.select(\"NPI\", \"HOSPITAL_LAT\", \"HOSPITAL_LONG\", \"HOSPITAL_NAME\", \"HOSPITAL_STATE\", logistic_predict_readmission(*feature_cols).alias(\"predicted_readmission\"))\n",
    "new_patients_predictions_df.write.mode(\"overwrite\").save_as_table(\"new_patient_predictions_snowpark\")\n",
    "new_patients_predictions_df.show()"
   ]
  },
  {
   "cell_type": "markdown",
   "metadata": {},
   "source": [
    "### Prototype a map of providers in New Jersey with the most predicted readmissions \n",
    "\n"
   ]
  },
  {
   "cell_type": "code",
   "execution_count": 30,
   "metadata": {},
   "outputs": [
    {
     "data": {
      "application/vnd.plotly.v1+json": {
       "config": {
        "plotlyServerURL": "https://plot.ly"
       },
       "data": [
        {
         "hovertemplate": "<b>%{hovertext}</b><br><br>TOTAL_PRED_READMITS=%{marker.color}<br>HOSPITAL_LAT=%{lat}<br>HOSPITAL_LONG=%{lon}<extra></extra>",
         "hovertext": [
          "ATLANTICARE REGIONAL MEDICAL CENTER - CITY CAMPUS",
          "TRINITAS REGIONAL MEDICAL CENTER",
          "VIRTUA WEST JERSEY HOSPITALS VOORHEES",
          "NEWARK BETH ISRAEL MEDICAL CENTER",
          "ROBERT WOOD JOHNSON UNIVERSITY HOSPITAL SOMERSET",
          "MONMOUTH MEDICAL CENTER-SOUTHERN CAMPUS",
          "LOURDES MEDICAL CENTER OF BURLINGTON COUNTY",
          "MORRISTOWN MEDICAL CENTER",
          "SAINT CLARE'S HOSPITAL/ DENVILLE CAMPUS",
          "ST FRANCIS MEDICAL CENTER",
          "JERSEY CITY MEDICAL CENTER",
          "UNIV MEDICAL CENTER OF PRINCETON AT PLAINSBORO",
          "ROBERT WOOD JOHNSON UNIVERSITY HOSPITAL AT RAHWAY",
          "VALLEY HOSPITAL",
          "SOUTHERN OCEAN MEDICAL CENTER",
          "CENTRASTATE MEDICAL CENTER",
          "HUNTERDON MEDICAL CENTER",
          "SAINT MICHAEL'S MEDICAL CENTER",
          "PALISADES MEDICAL CENTER",
          "CAREPOINT HEALTH - BAYONNE MEDICAL CENTER",
          "UNIVERSITY HOSPITAL",
          "KENNEDY UNIVERSITY HOSPITAL - STRATFORD DIV",
          "COOPER UNIVERSITY HOSPITAL",
          "RIVERVIEW MEDICAL CENTER",
          "BAYSHORE MEDICAL CENTER",
          "MEADOWLANDS HOSPITAL MEDICAL CENTER",
          "CAPE REGIONAL MEDICAL CENTER INC",
          "INSPIRA MEDICAL CENTER ELMER",
          "VIRTUA MEMORIAL HOSPITAL OF BURLINGTON COUNTY",
          "CHILTON MEDICAL CENTER",
          "INSPIRA MEDICAL CENTER WOODBURY",
          "CLARA MAASS MEDICAL CENTER",
          "COMMUNITY MEDICAL CENTER",
          "JERSEY SHORE UNIVERSITY MEDICAL CENTER",
          "JFK MEDICAL CTR - ANTHONY M. YELENCSICS COMMUNITY",
          "OCEAN MEDICAL CENTER",
          "OUR LADY OF LOURDES MEDICAL CENTER",
          "SAINT BARNABAS MEDICAL CENTER",
          "CAREPOINT HEALTH-CHRIST HOSPITAL",
          "MONMOUTH MEDICAL CENTER",
          "CAPITAL HEALTH SYSTEM-FULD CAMPUS",
          "RARITAN BAY MEDICAL CENTER PERTH AMBOY DIVISION",
          "HACKENSACK UNIVERSITY MEDICAL CENTER",
          "OVERLOOK MEDICAL CENTER",
          "HACKENSACK-UMC MOUNTAINSIDE",
          "ST MARY'S GENERAL HOSPITAL",
          "SHORE MEDICAL CENTER",
          "ST LUKE'S WARREN HOSPITAL",
          "ENGLEWOOD HOSPITAL AND MEDICAL CENTER",
          "ST JOSEPH'S REGIONAL MEDICAL CENTER",
          "CAREPOINT HEALTH-HOBOKEN UNIVERSITY MEDICAL CENTER",
          "SAINT PETER'S UNIVERSITY HOSPITAL",
          "CAPITAL HEALTH MEDICAL CENTER - HOPEWELL",
          "INSPIRA MEDICAL CENTER VINELAND",
          "HACKENSACK MERIDIAN HEALTH PASCACK VALLEY MEDICAL",
          "HACKETTSTOWN MEDICAL CENTER",
          "DEBORAH HEART AND LUNG CENTER",
          "BERGEN REGIONAL MEDICAL CENTER",
          "ROBERT WOOD JOHNSON UNIVERSITY HOSPITAL",
          "MEMORIAL HOSPITAL OF SALEM COUNTY",
          "ROBERT WOOD JOHNSON UNIVERSITY HOSPITAL HAMILTON",
          "HOLY NAME MEDICAL CENTER",
          "EAST ORANGE GENERAL HOSPITAL",
          "NEWTON MEDICAL CENTER"
         ],
         "lat": [
          39.36417,
          40.66389,
          40.48111,
          40.73556,
          40.57417,
          40.09778,
          40.02778,
          40.79667,
          40.89222,
          40.21694,
          40.72806,
          40.33333,
          40.60806,
          40.97917,
          39.69528,
          40.260004,
          40.51222,
          40.73556,
          40.80417,
          40.66861,
          40.73556,
          39.82667,
          39.92583,
          40.34694,
          40.345,
          40.78944,
          39.0825,
          39.595,
          39.99278,
          40.96806,
          39.83806,
          40.79361,
          39.95361,
          null,
          null,
          null,
          39.92583,
          40.79583,
          40.72806,
          40.30417,
          40.21694,
          40.50667,
          40.88583,
          40.74139,
          40.82583,
          40.85667,
          39.3175,
          40.69361,
          40.89278,
          40.91667,
          40.74389,
          40.48611,
          40.32833,
          39.48611,
          40.99111,
          40.85389,
          39.9725,
          40.94444,
          40.48611,
          39.57167,
          null,
          40.8975,
          40.76722,
          41.05806
         ],
         "legendgroup": "",
         "lon": [
          -74.42333,
          -74.21111,
          -74.48361,
          -74.17278,
          -74.61028,
          -74.21806,
          -74.86944,
          -74.48194,
          -74.47778,
          -74.74333,
          -74.07806,
          -74.60083,
          -74.27806,
          -74.11694,
          -74.25917,
          -74.274173,
          -74.85972,
          -74.17278,
          -74.0125,
          -74.11472,
          -74.17278,
          -75.01583,
          -75.12,
          -74.06472,
          -74.18444,
          -74.05694,
          -74.82417,
          -75.17056,
          -74.78806,
          -74.29611,
          -75.15306,
          -74.15056,
          -74.19833,
          null,
          null,
          null,
          -75.12,
          -74.31528,
          -74.07806,
          -73.99278,
          -74.74333,
          -74.26583,
          -74.04389,
          -74.36,
          -74.20944,
          -74.12889,
          -74.595,
          -75.19056,
          -73.97306,
          -74.17222,
          -74.03278,
          -74.45222,
          -74.79111,
          -75.02611,
          -74.03306,
          -74.82944,
          -74.58333,
          -74.07583,
          -74.45222,
          -75.4675,
          null,
          -74.01639,
          -74.20528,
          -74.75306
         ],
         "marker": {
          "color": [
           29,
           10,
           34,
           8,
           11,
           13,
           8,
           35,
           11,
           10,
           10,
           18,
           15,
           38,
           16,
           13,
           11,
           4,
           9,
           11,
           7,
           25,
           13,
           8,
           11,
           8,
           7,
           5,
           13,
           19,
           12,
           16,
           44,
           29,
           19,
           26,
           21,
           19,
           8,
           9,
           9,
           15,
           23,
           22,
           14,
           15,
           11,
           7,
           13,
           19,
           9,
           12,
           7,
           20,
           9,
           8,
           11,
           6,
           29,
           9,
           10,
           16,
           7,
           11
          ],
          "coloraxis": "coloraxis",
          "size": [
           29,
           10,
           34,
           8,
           11,
           13,
           8,
           35,
           11,
           10,
           10,
           18,
           15,
           38,
           16,
           13,
           11,
           4,
           9,
           11,
           7,
           25,
           13,
           8,
           11,
           8,
           7,
           5,
           13,
           19,
           12,
           16,
           44,
           29,
           19,
           26,
           21,
           19,
           8,
           9,
           9,
           15,
           23,
           22,
           14,
           15,
           11,
           7,
           13,
           19,
           9,
           12,
           7,
           20,
           9,
           8,
           11,
           6,
           29,
           9,
           10,
           16,
           7,
           11
          ],
          "sizemode": "area",
          "sizeref": 0.11
         },
         "mode": "markers",
         "name": "",
         "showlegend": false,
         "subplot": "mapbox",
         "type": "scattermapbox"
        }
       ],
       "layout": {
        "coloraxis": {
         "colorbar": {
          "title": {
           "text": "TOTAL_PRED_READMITS"
          }
         },
         "colorscale": [
          [
           0,
           "#0d0887"
          ],
          [
           0.1111111111111111,
           "#46039f"
          ],
          [
           0.2222222222222222,
           "#7201a8"
          ],
          [
           0.3333333333333333,
           "#9c179e"
          ],
          [
           0.4444444444444444,
           "#bd3786"
          ],
          [
           0.5555555555555556,
           "#d8576b"
          ],
          [
           0.6666666666666666,
           "#ed7953"
          ],
          [
           0.7777777777777778,
           "#fb9f3a"
          ],
          [
           0.8888888888888888,
           "#fdca26"
          ],
          [
           1,
           "#f0f921"
          ]
         ]
        },
        "height": 800,
        "legend": {
         "itemsizing": "constant",
         "tracegroupgap": 0
        },
        "mapbox": {
         "center": {
          "lat": 40.42604223333332,
          "lon": -74.44268071666666
         },
         "domain": {
          "x": [
           0,
           1
          ],
          "y": [
           0,
           1
          ]
         },
         "style": "open-street-map",
         "zoom": 8
        },
        "margin": {
         "t": 60
        },
        "template": {
         "data": {
          "bar": [
           {
            "error_x": {
             "color": "#2a3f5f"
            },
            "error_y": {
             "color": "#2a3f5f"
            },
            "marker": {
             "line": {
              "color": "#E5ECF6",
              "width": 0.5
             },
             "pattern": {
              "fillmode": "overlay",
              "size": 10,
              "solidity": 0.2
             }
            },
            "type": "bar"
           }
          ],
          "barpolar": [
           {
            "marker": {
             "line": {
              "color": "#E5ECF6",
              "width": 0.5
             },
             "pattern": {
              "fillmode": "overlay",
              "size": 10,
              "solidity": 0.2
             }
            },
            "type": "barpolar"
           }
          ],
          "carpet": [
           {
            "aaxis": {
             "endlinecolor": "#2a3f5f",
             "gridcolor": "white",
             "linecolor": "white",
             "minorgridcolor": "white",
             "startlinecolor": "#2a3f5f"
            },
            "baxis": {
             "endlinecolor": "#2a3f5f",
             "gridcolor": "white",
             "linecolor": "white",
             "minorgridcolor": "white",
             "startlinecolor": "#2a3f5f"
            },
            "type": "carpet"
           }
          ],
          "choropleth": [
           {
            "colorbar": {
             "outlinewidth": 0,
             "ticks": ""
            },
            "type": "choropleth"
           }
          ],
          "contour": [
           {
            "colorbar": {
             "outlinewidth": 0,
             "ticks": ""
            },
            "colorscale": [
             [
              0,
              "#0d0887"
             ],
             [
              0.1111111111111111,
              "#46039f"
             ],
             [
              0.2222222222222222,
              "#7201a8"
             ],
             [
              0.3333333333333333,
              "#9c179e"
             ],
             [
              0.4444444444444444,
              "#bd3786"
             ],
             [
              0.5555555555555556,
              "#d8576b"
             ],
             [
              0.6666666666666666,
              "#ed7953"
             ],
             [
              0.7777777777777778,
              "#fb9f3a"
             ],
             [
              0.8888888888888888,
              "#fdca26"
             ],
             [
              1,
              "#f0f921"
             ]
            ],
            "type": "contour"
           }
          ],
          "contourcarpet": [
           {
            "colorbar": {
             "outlinewidth": 0,
             "ticks": ""
            },
            "type": "contourcarpet"
           }
          ],
          "heatmap": [
           {
            "colorbar": {
             "outlinewidth": 0,
             "ticks": ""
            },
            "colorscale": [
             [
              0,
              "#0d0887"
             ],
             [
              0.1111111111111111,
              "#46039f"
             ],
             [
              0.2222222222222222,
              "#7201a8"
             ],
             [
              0.3333333333333333,
              "#9c179e"
             ],
             [
              0.4444444444444444,
              "#bd3786"
             ],
             [
              0.5555555555555556,
              "#d8576b"
             ],
             [
              0.6666666666666666,
              "#ed7953"
             ],
             [
              0.7777777777777778,
              "#fb9f3a"
             ],
             [
              0.8888888888888888,
              "#fdca26"
             ],
             [
              1,
              "#f0f921"
             ]
            ],
            "type": "heatmap"
           }
          ],
          "heatmapgl": [
           {
            "colorbar": {
             "outlinewidth": 0,
             "ticks": ""
            },
            "colorscale": [
             [
              0,
              "#0d0887"
             ],
             [
              0.1111111111111111,
              "#46039f"
             ],
             [
              0.2222222222222222,
              "#7201a8"
             ],
             [
              0.3333333333333333,
              "#9c179e"
             ],
             [
              0.4444444444444444,
              "#bd3786"
             ],
             [
              0.5555555555555556,
              "#d8576b"
             ],
             [
              0.6666666666666666,
              "#ed7953"
             ],
             [
              0.7777777777777778,
              "#fb9f3a"
             ],
             [
              0.8888888888888888,
              "#fdca26"
             ],
             [
              1,
              "#f0f921"
             ]
            ],
            "type": "heatmapgl"
           }
          ],
          "histogram": [
           {
            "marker": {
             "pattern": {
              "fillmode": "overlay",
              "size": 10,
              "solidity": 0.2
             }
            },
            "type": "histogram"
           }
          ],
          "histogram2d": [
           {
            "colorbar": {
             "outlinewidth": 0,
             "ticks": ""
            },
            "colorscale": [
             [
              0,
              "#0d0887"
             ],
             [
              0.1111111111111111,
              "#46039f"
             ],
             [
              0.2222222222222222,
              "#7201a8"
             ],
             [
              0.3333333333333333,
              "#9c179e"
             ],
             [
              0.4444444444444444,
              "#bd3786"
             ],
             [
              0.5555555555555556,
              "#d8576b"
             ],
             [
              0.6666666666666666,
              "#ed7953"
             ],
             [
              0.7777777777777778,
              "#fb9f3a"
             ],
             [
              0.8888888888888888,
              "#fdca26"
             ],
             [
              1,
              "#f0f921"
             ]
            ],
            "type": "histogram2d"
           }
          ],
          "histogram2dcontour": [
           {
            "colorbar": {
             "outlinewidth": 0,
             "ticks": ""
            },
            "colorscale": [
             [
              0,
              "#0d0887"
             ],
             [
              0.1111111111111111,
              "#46039f"
             ],
             [
              0.2222222222222222,
              "#7201a8"
             ],
             [
              0.3333333333333333,
              "#9c179e"
             ],
             [
              0.4444444444444444,
              "#bd3786"
             ],
             [
              0.5555555555555556,
              "#d8576b"
             ],
             [
              0.6666666666666666,
              "#ed7953"
             ],
             [
              0.7777777777777778,
              "#fb9f3a"
             ],
             [
              0.8888888888888888,
              "#fdca26"
             ],
             [
              1,
              "#f0f921"
             ]
            ],
            "type": "histogram2dcontour"
           }
          ],
          "mesh3d": [
           {
            "colorbar": {
             "outlinewidth": 0,
             "ticks": ""
            },
            "type": "mesh3d"
           }
          ],
          "parcoords": [
           {
            "line": {
             "colorbar": {
              "outlinewidth": 0,
              "ticks": ""
             }
            },
            "type": "parcoords"
           }
          ],
          "pie": [
           {
            "automargin": true,
            "type": "pie"
           }
          ],
          "scatter": [
           {
            "fillpattern": {
             "fillmode": "overlay",
             "size": 10,
             "solidity": 0.2
            },
            "type": "scatter"
           }
          ],
          "scatter3d": [
           {
            "line": {
             "colorbar": {
              "outlinewidth": 0,
              "ticks": ""
             }
            },
            "marker": {
             "colorbar": {
              "outlinewidth": 0,
              "ticks": ""
             }
            },
            "type": "scatter3d"
           }
          ],
          "scattercarpet": [
           {
            "marker": {
             "colorbar": {
              "outlinewidth": 0,
              "ticks": ""
             }
            },
            "type": "scattercarpet"
           }
          ],
          "scattergeo": [
           {
            "marker": {
             "colorbar": {
              "outlinewidth": 0,
              "ticks": ""
             }
            },
            "type": "scattergeo"
           }
          ],
          "scattergl": [
           {
            "marker": {
             "colorbar": {
              "outlinewidth": 0,
              "ticks": ""
             }
            },
            "type": "scattergl"
           }
          ],
          "scattermapbox": [
           {
            "marker": {
             "colorbar": {
              "outlinewidth": 0,
              "ticks": ""
             }
            },
            "type": "scattermapbox"
           }
          ],
          "scatterpolar": [
           {
            "marker": {
             "colorbar": {
              "outlinewidth": 0,
              "ticks": ""
             }
            },
            "type": "scatterpolar"
           }
          ],
          "scatterpolargl": [
           {
            "marker": {
             "colorbar": {
              "outlinewidth": 0,
              "ticks": ""
             }
            },
            "type": "scatterpolargl"
           }
          ],
          "scatterternary": [
           {
            "marker": {
             "colorbar": {
              "outlinewidth": 0,
              "ticks": ""
             }
            },
            "type": "scatterternary"
           }
          ],
          "surface": [
           {
            "colorbar": {
             "outlinewidth": 0,
             "ticks": ""
            },
            "colorscale": [
             [
              0,
              "#0d0887"
             ],
             [
              0.1111111111111111,
              "#46039f"
             ],
             [
              0.2222222222222222,
              "#7201a8"
             ],
             [
              0.3333333333333333,
              "#9c179e"
             ],
             [
              0.4444444444444444,
              "#bd3786"
             ],
             [
              0.5555555555555556,
              "#d8576b"
             ],
             [
              0.6666666666666666,
              "#ed7953"
             ],
             [
              0.7777777777777778,
              "#fb9f3a"
             ],
             [
              0.8888888888888888,
              "#fdca26"
             ],
             [
              1,
              "#f0f921"
             ]
            ],
            "type": "surface"
           }
          ],
          "table": [
           {
            "cells": {
             "fill": {
              "color": "#EBF0F8"
             },
             "line": {
              "color": "white"
             }
            },
            "header": {
             "fill": {
              "color": "#C8D4E3"
             },
             "line": {
              "color": "white"
             }
            },
            "type": "table"
           }
          ]
         },
         "layout": {
          "annotationdefaults": {
           "arrowcolor": "#2a3f5f",
           "arrowhead": 0,
           "arrowwidth": 1
          },
          "autotypenumbers": "strict",
          "coloraxis": {
           "colorbar": {
            "outlinewidth": 0,
            "ticks": ""
           }
          },
          "colorscale": {
           "diverging": [
            [
             0,
             "#8e0152"
            ],
            [
             0.1,
             "#c51b7d"
            ],
            [
             0.2,
             "#de77ae"
            ],
            [
             0.3,
             "#f1b6da"
            ],
            [
             0.4,
             "#fde0ef"
            ],
            [
             0.5,
             "#f7f7f7"
            ],
            [
             0.6,
             "#e6f5d0"
            ],
            [
             0.7,
             "#b8e186"
            ],
            [
             0.8,
             "#7fbc41"
            ],
            [
             0.9,
             "#4d9221"
            ],
            [
             1,
             "#276419"
            ]
           ],
           "sequential": [
            [
             0,
             "#0d0887"
            ],
            [
             0.1111111111111111,
             "#46039f"
            ],
            [
             0.2222222222222222,
             "#7201a8"
            ],
            [
             0.3333333333333333,
             "#9c179e"
            ],
            [
             0.4444444444444444,
             "#bd3786"
            ],
            [
             0.5555555555555556,
             "#d8576b"
            ],
            [
             0.6666666666666666,
             "#ed7953"
            ],
            [
             0.7777777777777778,
             "#fb9f3a"
            ],
            [
             0.8888888888888888,
             "#fdca26"
            ],
            [
             1,
             "#f0f921"
            ]
           ],
           "sequentialminus": [
            [
             0,
             "#0d0887"
            ],
            [
             0.1111111111111111,
             "#46039f"
            ],
            [
             0.2222222222222222,
             "#7201a8"
            ],
            [
             0.3333333333333333,
             "#9c179e"
            ],
            [
             0.4444444444444444,
             "#bd3786"
            ],
            [
             0.5555555555555556,
             "#d8576b"
            ],
            [
             0.6666666666666666,
             "#ed7953"
            ],
            [
             0.7777777777777778,
             "#fb9f3a"
            ],
            [
             0.8888888888888888,
             "#fdca26"
            ],
            [
             1,
             "#f0f921"
            ]
           ]
          },
          "colorway": [
           "#636efa",
           "#EF553B",
           "#00cc96",
           "#ab63fa",
           "#FFA15A",
           "#19d3f3",
           "#FF6692",
           "#B6E880",
           "#FF97FF",
           "#FECB52"
          ],
          "font": {
           "color": "#2a3f5f"
          },
          "geo": {
           "bgcolor": "white",
           "lakecolor": "white",
           "landcolor": "#E5ECF6",
           "showlakes": true,
           "showland": true,
           "subunitcolor": "white"
          },
          "hoverlabel": {
           "align": "left"
          },
          "hovermode": "closest",
          "mapbox": {
           "style": "light"
          },
          "paper_bgcolor": "white",
          "plot_bgcolor": "#E5ECF6",
          "polar": {
           "angularaxis": {
            "gridcolor": "white",
            "linecolor": "white",
            "ticks": ""
           },
           "bgcolor": "#E5ECF6",
           "radialaxis": {
            "gridcolor": "white",
            "linecolor": "white",
            "ticks": ""
           }
          },
          "scene": {
           "xaxis": {
            "backgroundcolor": "#E5ECF6",
            "gridcolor": "white",
            "gridwidth": 2,
            "linecolor": "white",
            "showbackground": true,
            "ticks": "",
            "zerolinecolor": "white"
           },
           "yaxis": {
            "backgroundcolor": "#E5ECF6",
            "gridcolor": "white",
            "gridwidth": 2,
            "linecolor": "white",
            "showbackground": true,
            "ticks": "",
            "zerolinecolor": "white"
           },
           "zaxis": {
            "backgroundcolor": "#E5ECF6",
            "gridcolor": "white",
            "gridwidth": 2,
            "linecolor": "white",
            "showbackground": true,
            "ticks": "",
            "zerolinecolor": "white"
           }
          },
          "shapedefaults": {
           "line": {
            "color": "#2a3f5f"
           }
          },
          "ternary": {
           "aaxis": {
            "gridcolor": "white",
            "linecolor": "white",
            "ticks": ""
           },
           "baxis": {
            "gridcolor": "white",
            "linecolor": "white",
            "ticks": ""
           },
           "bgcolor": "#E5ECF6",
           "caxis": {
            "gridcolor": "white",
            "linecolor": "white",
            "ticks": ""
           }
          },
          "title": {
           "x": 0.05
          },
          "xaxis": {
           "automargin": true,
           "gridcolor": "white",
           "linecolor": "white",
           "ticks": "",
           "title": {
            "standoff": 15
           },
           "zerolinecolor": "white",
           "zerolinewidth": 2
          },
          "yaxis": {
           "automargin": true,
           "gridcolor": "white",
           "linecolor": "white",
           "ticks": "",
           "title": {
            "standoff": 15
           },
           "zerolinecolor": "white",
           "zerolinewidth": 2
          }
         }
        },
        "width": 1000
       }
      },
      "text/html": [
       "<div>                            <div id=\"d8742348-2377-411e-89ce-05899b3d47f4\" class=\"plotly-graph-div\" style=\"height:800px; width:1000px;\"></div>            <script type=\"text/javascript\">                require([\"plotly\"], function(Plotly) {                    window.PLOTLYENV=window.PLOTLYENV || {};                                    if (document.getElementById(\"d8742348-2377-411e-89ce-05899b3d47f4\")) {                    Plotly.newPlot(                        \"d8742348-2377-411e-89ce-05899b3d47f4\",                        [{\"hovertemplate\":\"<b>%{hovertext}</b><br><br>TOTAL_PRED_READMITS=%{marker.color}<br>HOSPITAL_LAT=%{lat}<br>HOSPITAL_LONG=%{lon}<extra></extra>\",\"hovertext\":[\"ATLANTICARE REGIONAL MEDICAL CENTER - CITY CAMPUS\",\"TRINITAS REGIONAL MEDICAL CENTER\",\"VIRTUA WEST JERSEY HOSPITALS VOORHEES\",\"NEWARK BETH ISRAEL MEDICAL CENTER\",\"ROBERT WOOD JOHNSON UNIVERSITY HOSPITAL SOMERSET\",\"MONMOUTH MEDICAL CENTER-SOUTHERN CAMPUS\",\"LOURDES MEDICAL CENTER OF BURLINGTON COUNTY\",\"MORRISTOWN MEDICAL CENTER\",\"SAINT CLARE'S HOSPITAL/ DENVILLE CAMPUS\",\"ST FRANCIS MEDICAL CENTER\",\"JERSEY CITY MEDICAL CENTER\",\"UNIV MEDICAL CENTER OF PRINCETON AT PLAINSBORO\",\"ROBERT WOOD JOHNSON UNIVERSITY HOSPITAL AT RAHWAY\",\"VALLEY HOSPITAL\",\"SOUTHERN OCEAN MEDICAL CENTER\",\"CENTRASTATE MEDICAL CENTER\",\"HUNTERDON MEDICAL CENTER\",\"SAINT MICHAEL'S MEDICAL CENTER\",\"PALISADES MEDICAL CENTER\",\"CAREPOINT HEALTH - BAYONNE MEDICAL CENTER\",\"UNIVERSITY HOSPITAL\",\"KENNEDY UNIVERSITY HOSPITAL - STRATFORD DIV\",\"COOPER UNIVERSITY HOSPITAL\",\"RIVERVIEW MEDICAL CENTER\",\"BAYSHORE MEDICAL CENTER\",\"MEADOWLANDS HOSPITAL MEDICAL CENTER\",\"CAPE REGIONAL MEDICAL CENTER INC\",\"INSPIRA MEDICAL CENTER ELMER\",\"VIRTUA MEMORIAL HOSPITAL OF BURLINGTON COUNTY\",\"CHILTON MEDICAL CENTER\",\"INSPIRA MEDICAL CENTER WOODBURY\",\"CLARA MAASS MEDICAL CENTER\",\"COMMUNITY MEDICAL CENTER\",\"JERSEY SHORE UNIVERSITY MEDICAL CENTER\",\"JFK MEDICAL CTR - ANTHONY M. YELENCSICS COMMUNITY\",\"OCEAN MEDICAL CENTER\",\"OUR LADY OF LOURDES MEDICAL CENTER\",\"SAINT BARNABAS MEDICAL CENTER\",\"CAREPOINT HEALTH-CHRIST HOSPITAL\",\"MONMOUTH MEDICAL CENTER\",\"CAPITAL HEALTH SYSTEM-FULD CAMPUS\",\"RARITAN BAY MEDICAL CENTER PERTH AMBOY DIVISION\",\"HACKENSACK UNIVERSITY MEDICAL CENTER\",\"OVERLOOK MEDICAL CENTER\",\"HACKENSACK-UMC MOUNTAINSIDE\",\"ST MARY'S GENERAL HOSPITAL\",\"SHORE MEDICAL CENTER\",\"ST LUKE'S WARREN HOSPITAL\",\"ENGLEWOOD HOSPITAL AND MEDICAL CENTER\",\"ST JOSEPH'S REGIONAL MEDICAL CENTER\",\"CAREPOINT HEALTH-HOBOKEN UNIVERSITY MEDICAL CENTER\",\"SAINT PETER'S UNIVERSITY HOSPITAL\",\"CAPITAL HEALTH MEDICAL CENTER - HOPEWELL\",\"INSPIRA MEDICAL CENTER VINELAND\",\"HACKENSACK MERIDIAN HEALTH PASCACK VALLEY MEDICAL\",\"HACKETTSTOWN MEDICAL CENTER\",\"DEBORAH HEART AND LUNG CENTER\",\"BERGEN REGIONAL MEDICAL CENTER\",\"ROBERT WOOD JOHNSON UNIVERSITY HOSPITAL\",\"MEMORIAL HOSPITAL OF SALEM COUNTY\",\"ROBERT WOOD JOHNSON UNIVERSITY HOSPITAL HAMILTON\",\"HOLY NAME MEDICAL CENTER\",\"EAST ORANGE GENERAL HOSPITAL\",\"NEWTON MEDICAL CENTER\"],\"lat\":[39.36417,40.66389,40.48111,40.73556,40.57417,40.09778,40.02778,40.79667,40.89222,40.21694,40.72806,40.33333,40.60806,40.97917,39.69528,40.260004,40.51222,40.73556,40.80417,40.66861,40.73556,39.82667,39.92583,40.34694,40.345,40.78944,39.0825,39.595,39.99278,40.96806,39.83806,40.79361,39.95361,null,null,null,39.92583,40.79583,40.72806,40.30417,40.21694,40.50667,40.88583,40.74139,40.82583,40.85667,39.3175,40.69361,40.89278,40.91667,40.74389,40.48611,40.32833,39.48611,40.99111,40.85389,39.9725,40.94444,40.48611,39.57167,null,40.8975,40.76722,41.05806],\"legendgroup\":\"\",\"lon\":[-74.42333,-74.21111,-74.48361,-74.17278,-74.61028,-74.21806,-74.86944,-74.48194,-74.47778,-74.74333,-74.07806,-74.60083,-74.27806,-74.11694,-74.25917,-74.274173,-74.85972,-74.17278,-74.0125,-74.11472,-74.17278,-75.01583,-75.12,-74.06472,-74.18444,-74.05694,-74.82417,-75.17056,-74.78806,-74.29611,-75.15306,-74.15056,-74.19833,null,null,null,-75.12,-74.31528,-74.07806,-73.99278,-74.74333,-74.26583,-74.04389,-74.36,-74.20944,-74.12889,-74.595,-75.19056,-73.97306,-74.17222,-74.03278,-74.45222,-74.79111,-75.02611,-74.03306,-74.82944,-74.58333,-74.07583,-74.45222,-75.4675,null,-74.01639,-74.20528,-74.75306],\"marker\":{\"color\":[29.0,10.0,34.0,8.0,11.0,13.0,8.0,35.0,11.0,10.0,10.0,18.0,15.0,38.0,16.0,13.0,11.0,4.0,9.0,11.0,7.0,25.0,13.0,8.0,11.0,8.0,7.0,5.0,13.0,19.0,12.0,16.0,44.0,29.0,19.0,26.0,21.0,19.0,8.0,9.0,9.0,15.0,23.0,22.0,14.0,15.0,11.0,7.0,13.0,19.0,9.0,12.0,7.0,20.0,9.0,8.0,11.0,6.0,29.0,9.0,10.0,16.0,7.0,11.0],\"coloraxis\":\"coloraxis\",\"size\":[29.0,10.0,34.0,8.0,11.0,13.0,8.0,35.0,11.0,10.0,10.0,18.0,15.0,38.0,16.0,13.0,11.0,4.0,9.0,11.0,7.0,25.0,13.0,8.0,11.0,8.0,7.0,5.0,13.0,19.0,12.0,16.0,44.0,29.0,19.0,26.0,21.0,19.0,8.0,9.0,9.0,15.0,23.0,22.0,14.0,15.0,11.0,7.0,13.0,19.0,9.0,12.0,7.0,20.0,9.0,8.0,11.0,6.0,29.0,9.0,10.0,16.0,7.0,11.0],\"sizemode\":\"area\",\"sizeref\":0.11},\"mode\":\"markers\",\"name\":\"\",\"showlegend\":false,\"subplot\":\"mapbox\",\"type\":\"scattermapbox\"}],                        {\"template\":{\"data\":{\"histogram2dcontour\":[{\"type\":\"histogram2dcontour\",\"colorbar\":{\"outlinewidth\":0,\"ticks\":\"\"},\"colorscale\":[[0.0,\"#0d0887\"],[0.1111111111111111,\"#46039f\"],[0.2222222222222222,\"#7201a8\"],[0.3333333333333333,\"#9c179e\"],[0.4444444444444444,\"#bd3786\"],[0.5555555555555556,\"#d8576b\"],[0.6666666666666666,\"#ed7953\"],[0.7777777777777778,\"#fb9f3a\"],[0.8888888888888888,\"#fdca26\"],[1.0,\"#f0f921\"]]}],\"choropleth\":[{\"type\":\"choropleth\",\"colorbar\":{\"outlinewidth\":0,\"ticks\":\"\"}}],\"histogram2d\":[{\"type\":\"histogram2d\",\"colorbar\":{\"outlinewidth\":0,\"ticks\":\"\"},\"colorscale\":[[0.0,\"#0d0887\"],[0.1111111111111111,\"#46039f\"],[0.2222222222222222,\"#7201a8\"],[0.3333333333333333,\"#9c179e\"],[0.4444444444444444,\"#bd3786\"],[0.5555555555555556,\"#d8576b\"],[0.6666666666666666,\"#ed7953\"],[0.7777777777777778,\"#fb9f3a\"],[0.8888888888888888,\"#fdca26\"],[1.0,\"#f0f921\"]]}],\"heatmap\":[{\"type\":\"heatmap\",\"colorbar\":{\"outlinewidth\":0,\"ticks\":\"\"},\"colorscale\":[[0.0,\"#0d0887\"],[0.1111111111111111,\"#46039f\"],[0.2222222222222222,\"#7201a8\"],[0.3333333333333333,\"#9c179e\"],[0.4444444444444444,\"#bd3786\"],[0.5555555555555556,\"#d8576b\"],[0.6666666666666666,\"#ed7953\"],[0.7777777777777778,\"#fb9f3a\"],[0.8888888888888888,\"#fdca26\"],[1.0,\"#f0f921\"]]}],\"heatmapgl\":[{\"type\":\"heatmapgl\",\"colorbar\":{\"outlinewidth\":0,\"ticks\":\"\"},\"colorscale\":[[0.0,\"#0d0887\"],[0.1111111111111111,\"#46039f\"],[0.2222222222222222,\"#7201a8\"],[0.3333333333333333,\"#9c179e\"],[0.4444444444444444,\"#bd3786\"],[0.5555555555555556,\"#d8576b\"],[0.6666666666666666,\"#ed7953\"],[0.7777777777777778,\"#fb9f3a\"],[0.8888888888888888,\"#fdca26\"],[1.0,\"#f0f921\"]]}],\"contourcarpet\":[{\"type\":\"contourcarpet\",\"colorbar\":{\"outlinewidth\":0,\"ticks\":\"\"}}],\"contour\":[{\"type\":\"contour\",\"colorbar\":{\"outlinewidth\":0,\"ticks\":\"\"},\"colorscale\":[[0.0,\"#0d0887\"],[0.1111111111111111,\"#46039f\"],[0.2222222222222222,\"#7201a8\"],[0.3333333333333333,\"#9c179e\"],[0.4444444444444444,\"#bd3786\"],[0.5555555555555556,\"#d8576b\"],[0.6666666666666666,\"#ed7953\"],[0.7777777777777778,\"#fb9f3a\"],[0.8888888888888888,\"#fdca26\"],[1.0,\"#f0f921\"]]}],\"surface\":[{\"type\":\"surface\",\"colorbar\":{\"outlinewidth\":0,\"ticks\":\"\"},\"colorscale\":[[0.0,\"#0d0887\"],[0.1111111111111111,\"#46039f\"],[0.2222222222222222,\"#7201a8\"],[0.3333333333333333,\"#9c179e\"],[0.4444444444444444,\"#bd3786\"],[0.5555555555555556,\"#d8576b\"],[0.6666666666666666,\"#ed7953\"],[0.7777777777777778,\"#fb9f3a\"],[0.8888888888888888,\"#fdca26\"],[1.0,\"#f0f921\"]]}],\"mesh3d\":[{\"type\":\"mesh3d\",\"colorbar\":{\"outlinewidth\":0,\"ticks\":\"\"}}],\"scatter\":[{\"fillpattern\":{\"fillmode\":\"overlay\",\"size\":10,\"solidity\":0.2},\"type\":\"scatter\"}],\"parcoords\":[{\"type\":\"parcoords\",\"line\":{\"colorbar\":{\"outlinewidth\":0,\"ticks\":\"\"}}}],\"scatterpolargl\":[{\"type\":\"scatterpolargl\",\"marker\":{\"colorbar\":{\"outlinewidth\":0,\"ticks\":\"\"}}}],\"bar\":[{\"error_x\":{\"color\":\"#2a3f5f\"},\"error_y\":{\"color\":\"#2a3f5f\"},\"marker\":{\"line\":{\"color\":\"#E5ECF6\",\"width\":0.5},\"pattern\":{\"fillmode\":\"overlay\",\"size\":10,\"solidity\":0.2}},\"type\":\"bar\"}],\"scattergeo\":[{\"type\":\"scattergeo\",\"marker\":{\"colorbar\":{\"outlinewidth\":0,\"ticks\":\"\"}}}],\"scatterpolar\":[{\"type\":\"scatterpolar\",\"marker\":{\"colorbar\":{\"outlinewidth\":0,\"ticks\":\"\"}}}],\"histogram\":[{\"marker\":{\"pattern\":{\"fillmode\":\"overlay\",\"size\":10,\"solidity\":0.2}},\"type\":\"histogram\"}],\"scattergl\":[{\"type\":\"scattergl\",\"marker\":{\"colorbar\":{\"outlinewidth\":0,\"ticks\":\"\"}}}],\"scatter3d\":[{\"type\":\"scatter3d\",\"line\":{\"colorbar\":{\"outlinewidth\":0,\"ticks\":\"\"}},\"marker\":{\"colorbar\":{\"outlinewidth\":0,\"ticks\":\"\"}}}],\"scattermapbox\":[{\"type\":\"scattermapbox\",\"marker\":{\"colorbar\":{\"outlinewidth\":0,\"ticks\":\"\"}}}],\"scatterternary\":[{\"type\":\"scatterternary\",\"marker\":{\"colorbar\":{\"outlinewidth\":0,\"ticks\":\"\"}}}],\"scattercarpet\":[{\"type\":\"scattercarpet\",\"marker\":{\"colorbar\":{\"outlinewidth\":0,\"ticks\":\"\"}}}],\"carpet\":[{\"aaxis\":{\"endlinecolor\":\"#2a3f5f\",\"gridcolor\":\"white\",\"linecolor\":\"white\",\"minorgridcolor\":\"white\",\"startlinecolor\":\"#2a3f5f\"},\"baxis\":{\"endlinecolor\":\"#2a3f5f\",\"gridcolor\":\"white\",\"linecolor\":\"white\",\"minorgridcolor\":\"white\",\"startlinecolor\":\"#2a3f5f\"},\"type\":\"carpet\"}],\"table\":[{\"cells\":{\"fill\":{\"color\":\"#EBF0F8\"},\"line\":{\"color\":\"white\"}},\"header\":{\"fill\":{\"color\":\"#C8D4E3\"},\"line\":{\"color\":\"white\"}},\"type\":\"table\"}],\"barpolar\":[{\"marker\":{\"line\":{\"color\":\"#E5ECF6\",\"width\":0.5},\"pattern\":{\"fillmode\":\"overlay\",\"size\":10,\"solidity\":0.2}},\"type\":\"barpolar\"}],\"pie\":[{\"automargin\":true,\"type\":\"pie\"}]},\"layout\":{\"autotypenumbers\":\"strict\",\"colorway\":[\"#636efa\",\"#EF553B\",\"#00cc96\",\"#ab63fa\",\"#FFA15A\",\"#19d3f3\",\"#FF6692\",\"#B6E880\",\"#FF97FF\",\"#FECB52\"],\"font\":{\"color\":\"#2a3f5f\"},\"hovermode\":\"closest\",\"hoverlabel\":{\"align\":\"left\"},\"paper_bgcolor\":\"white\",\"plot_bgcolor\":\"#E5ECF6\",\"polar\":{\"bgcolor\":\"#E5ECF6\",\"angularaxis\":{\"gridcolor\":\"white\",\"linecolor\":\"white\",\"ticks\":\"\"},\"radialaxis\":{\"gridcolor\":\"white\",\"linecolor\":\"white\",\"ticks\":\"\"}},\"ternary\":{\"bgcolor\":\"#E5ECF6\",\"aaxis\":{\"gridcolor\":\"white\",\"linecolor\":\"white\",\"ticks\":\"\"},\"baxis\":{\"gridcolor\":\"white\",\"linecolor\":\"white\",\"ticks\":\"\"},\"caxis\":{\"gridcolor\":\"white\",\"linecolor\":\"white\",\"ticks\":\"\"}},\"coloraxis\":{\"colorbar\":{\"outlinewidth\":0,\"ticks\":\"\"}},\"colorscale\":{\"sequential\":[[0.0,\"#0d0887\"],[0.1111111111111111,\"#46039f\"],[0.2222222222222222,\"#7201a8\"],[0.3333333333333333,\"#9c179e\"],[0.4444444444444444,\"#bd3786\"],[0.5555555555555556,\"#d8576b\"],[0.6666666666666666,\"#ed7953\"],[0.7777777777777778,\"#fb9f3a\"],[0.8888888888888888,\"#fdca26\"],[1.0,\"#f0f921\"]],\"sequentialminus\":[[0.0,\"#0d0887\"],[0.1111111111111111,\"#46039f\"],[0.2222222222222222,\"#7201a8\"],[0.3333333333333333,\"#9c179e\"],[0.4444444444444444,\"#bd3786\"],[0.5555555555555556,\"#d8576b\"],[0.6666666666666666,\"#ed7953\"],[0.7777777777777778,\"#fb9f3a\"],[0.8888888888888888,\"#fdca26\"],[1.0,\"#f0f921\"]],\"diverging\":[[0,\"#8e0152\"],[0.1,\"#c51b7d\"],[0.2,\"#de77ae\"],[0.3,\"#f1b6da\"],[0.4,\"#fde0ef\"],[0.5,\"#f7f7f7\"],[0.6,\"#e6f5d0\"],[0.7,\"#b8e186\"],[0.8,\"#7fbc41\"],[0.9,\"#4d9221\"],[1,\"#276419\"]]},\"xaxis\":{\"gridcolor\":\"white\",\"linecolor\":\"white\",\"ticks\":\"\",\"title\":{\"standoff\":15},\"zerolinecolor\":\"white\",\"automargin\":true,\"zerolinewidth\":2},\"yaxis\":{\"gridcolor\":\"white\",\"linecolor\":\"white\",\"ticks\":\"\",\"title\":{\"standoff\":15},\"zerolinecolor\":\"white\",\"automargin\":true,\"zerolinewidth\":2},\"scene\":{\"xaxis\":{\"backgroundcolor\":\"#E5ECF6\",\"gridcolor\":\"white\",\"linecolor\":\"white\",\"showbackground\":true,\"ticks\":\"\",\"zerolinecolor\":\"white\",\"gridwidth\":2},\"yaxis\":{\"backgroundcolor\":\"#E5ECF6\",\"gridcolor\":\"white\",\"linecolor\":\"white\",\"showbackground\":true,\"ticks\":\"\",\"zerolinecolor\":\"white\",\"gridwidth\":2},\"zaxis\":{\"backgroundcolor\":\"#E5ECF6\",\"gridcolor\":\"white\",\"linecolor\":\"white\",\"showbackground\":true,\"ticks\":\"\",\"zerolinecolor\":\"white\",\"gridwidth\":2}},\"shapedefaults\":{\"line\":{\"color\":\"#2a3f5f\"}},\"annotationdefaults\":{\"arrowcolor\":\"#2a3f5f\",\"arrowhead\":0,\"arrowwidth\":1},\"geo\":{\"bgcolor\":\"white\",\"landcolor\":\"#E5ECF6\",\"subunitcolor\":\"white\",\"showland\":true,\"showlakes\":true,\"lakecolor\":\"white\"},\"title\":{\"x\":0.05},\"mapbox\":{\"style\":\"light\"}}},\"mapbox\":{\"domain\":{\"x\":[0.0,1.0],\"y\":[0.0,1.0]},\"center\":{\"lat\":40.42604223333332,\"lon\":-74.44268071666666},\"zoom\":8,\"style\":\"open-street-map\"},\"coloraxis\":{\"colorbar\":{\"title\":{\"text\":\"TOTAL_PRED_READMITS\"}},\"colorscale\":[[0.0,\"#0d0887\"],[0.1111111111111111,\"#46039f\"],[0.2222222222222222,\"#7201a8\"],[0.3333333333333333,\"#9c179e\"],[0.4444444444444444,\"#bd3786\"],[0.5555555555555556,\"#d8576b\"],[0.6666666666666666,\"#ed7953\"],[0.7777777777777778,\"#fb9f3a\"],[0.8888888888888888,\"#fdca26\"],[1.0,\"#f0f921\"]]},\"legend\":{\"tracegroupgap\":0,\"itemsizing\":\"constant\"},\"margin\":{\"t\":60},\"height\":800,\"width\":1000},                        {\"responsive\": true}                    ).then(function(){\n",
       "                            \n",
       "var gd = document.getElementById('d8742348-2377-411e-89ce-05899b3d47f4');\n",
       "var x = new MutationObserver(function (mutations, observer) {{\n",
       "        var display = window.getComputedStyle(gd).display;\n",
       "        if (!display || display === 'none') {{\n",
       "            console.log([gd, 'removed!']);\n",
       "            Plotly.purge(gd);\n",
       "            observer.disconnect();\n",
       "        }}\n",
       "}});\n",
       "\n",
       "// Listen for the removal of the full notebook cells\n",
       "var notebookContainer = gd.closest('#notebook-container');\n",
       "if (notebookContainer) {{\n",
       "    x.observe(notebookContainer, {childList: true});\n",
       "}}\n",
       "\n",
       "// Listen for the clearing of the current output cell\n",
       "var outputEl = gd.closest('.output');\n",
       "if (outputEl) {{\n",
       "    x.observe(outputEl, {childList: true});\n",
       "}}\n",
       "\n",
       "                        })                };                });            </script>        </div>"
      ]
     },
     "metadata": {},
     "output_type": "display_data"
    }
   ],
   "source": [
    "# Pull New Jersey predictions aggregated by provider into a pandas dataframe\n",
    "nj_predictions_df = new_patients_predictions_df.filter(F.col(\"HOSPITAL_STATE\") == 'NJ').groupBy(\"HOSPITAL_NAME\", \"HOSPITAL_LAT\", \"HOSPITAL_LONG\").agg(F.sum(\"PREDICTED_READMISSION\").alias(\"TOTAL_PRED_READMITS\")).to_pandas()\n",
    "\n",
    "# Visualize on a map\n",
    "# This is a prototype of what we'll eventually make in Tableau\n",
    "# Where are our providers with the most predicted readmissions?\n",
    "fig = px.scatter_mapbox(\n",
    "    nj_predictions_df, \n",
    "    lat=\"HOSPITAL_LAT\", \n",
    "    lon=\"HOSPITAL_LONG\", \n",
    "    hover_name=\"HOSPITAL_NAME\", \n",
    "    size=\"TOTAL_PRED_READMITS\",\n",
    "    color=\"TOTAL_PRED_READMITS\",\n",
    "    zoom=8, \n",
    "    height=800,\n",
    "    width=1000\n",
    ")\n",
    "\n",
    "fig.update_layout(mapbox_style=\"open-street-map\")\n",
    "fig.show()"
   ]
  },
  {
   "cell_type": "markdown",
   "metadata": {},
   "source": [
    "### Close our Snowpark session\n",
    "\n"
   ]
  },
  {
   "cell_type": "code",
   "execution_count": null,
   "metadata": {},
   "outputs": [],
   "source": [
    "session.close()"
   ]
  }
 ],
 "metadata": {
  "hex_info": {
   "author": null,
   "exported_date": "Tue Apr 04 2023 17:22:33 GMT+0000 (Coordinated Universal Time)",
   "project_id": "b36107a4-3b10-4373-8196-60f29b0349bb",
   "version": "draft"
  },
  "kernelspec": {
   "display_name": "Python 3 (ipykernel)",
   "language": "python",
   "name": "python3"
  },
  "language_info": {
   "codemirror_mode": {
    "name": "ipython",
    "version": 3
   },
   "file_extension": ".py",
   "mimetype": "text/x-python",
   "name": "python",
   "nbconvert_exporter": "python",
   "pygments_lexer": "ipython3",
   "version": "3.8.13"
  }
 },
 "nbformat": 4,
 "nbformat_minor": 4
}
